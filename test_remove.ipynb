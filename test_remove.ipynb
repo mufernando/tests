{
 "cells": [
  {
   "cell_type": "code",
   "execution_count": 2,
   "metadata": {},
   "outputs": [],
   "source": [
    "import msprime\n",
    "import tskit\n",
    "import numpy as np\n",
    "import random\n",
    "from math import *"
   ]
  },
  {
   "cell_type": "code",
   "execution_count": 3,
   "metadata": {},
   "outputs": [],
   "source": [
    "def remove_mutations(ts, starts, ends, prop):\n",
    "    '''\n",
    "    This function will return a new tree sequence the same as the input,\n",
    "    but after removing each non-SLiM mutation within regions specified in \n",
    "    lists of start and end positions with probability `proportion`, independently. \n",
    "    So then, if we want to add neutral mutations with rate 1.0e-8 within the regions \n",
    "    and 0.7e-8 outside the regions, we could do\n",
    "      ts = pyslim.load(\"my.trees\")\n",
    "      first_mut_ts = msprime.mutate(ts, rate=1e-8)\n",
    "      mut_ts = remove_mutations(first_mut_ts, start, end, 0.3)\n",
    "    :param float proportion: The proportion of mutations to remove.\n",
    "    '''\n",
    "    pos = ts.tables.sites.position #getting the positions of all sites\n",
    "    is_msp = (np.diff(ts.tables.mutations.metadata_offset) == 0) #getting which mutations are from msprime\n",
    "    #but we want to know which sites are from msprime\n",
    "    is_msp_site = np.repeat(False, ts.num_sites)\n",
    "    is_msp_site[ts.tables.mutations.site] = is_msp\n",
    "    #finding which sites are inside the regions\n",
    "    breaks=np.concatenate(([-1], starts, ends))\n",
    "    breaks.sort()\n",
    "    #np.search sorted is going to return even numbers if the pos is inside one of the regions\n",
    "    in_regions = np.searchsorted(breaks,pos,\"right\")%2 == 0\n",
    "    removable_sites = np.where(np.logical_and(in_regions, is_msp_site))[0]\n",
    "    #find sites to remove with probability prop\n",
    "    remove = np.where(np.random.binomial(1,prop,len(removable_sites))==1)[0]\n",
    "    new_table = ts.tables\n",
    "    new_table.delete_sites(remove)\n",
    "    return(new_table.tree_sequence())"
   ]
  },
  {
   "cell_type": "code",
   "execution_count": 4,
   "metadata": {},
   "outputs": [],
   "source": [
    "def remove_mutations_old(ts, start, end, proportion):\n",
    "    '''\n",
    "    This function will return a new tree sequence the same as the input,\n",
    "    but after removing each non-SLiM mutation within regions specified in lists\n",
    "    start and end with probability `proportion`, independently. So then, if we\n",
    "    want to add neutral mutations with rate 1.0e-8 within the regions and 0.7e-8\n",
    "    outside the regions, we could do\n",
    "      ts = pyslim.load(\"my.trees\")\n",
    "      first_mut_ts = msprime.mutate(ts, rate=1e-8)\n",
    "      mut_ts = remove_mutations(first_mut_ts, start, end, 0.3)\n",
    "    :param float proportion: The proportion of mutations to remove.\n",
    "    '''\n",
    "    new_tables = ts.dump_tables()\n",
    "    new_tables.mutations.clear()\n",
    "    mutation_map = [-1 for _ in range(ts.num_mutations)]\n",
    "    for j, mut in enumerate(ts.mutations()):\n",
    "        keep_mutation = True\n",
    "        for i in range(len(start)):\n",
    "            left = start[i]\n",
    "            right = end[i]\n",
    "            assert(left < right)\n",
    "            if i > 0:\n",
    "                assert(end[i - 1] <= left)\n",
    "            if mut.position >= left and mut.position < right and len(mut.metadata) == 0:\n",
    "                keep_mutation = (random.uniform(0, 1) > proportion)\n",
    "        if keep_mutation:\n",
    "            mutation_map[j] = new_tables.mutations.num_rows\n",
    "            if mut.parent < 0:\n",
    "                new_parent = -1\n",
    "            else:\n",
    "                new_parent = mutation_map[mut.parent]\n",
    "            new_tables.mutations.add_row(site = mut.site, node = mut.node,\n",
    "                    derived_state = mut.derived_state,\n",
    "                    parent = new_parent,\n",
    "                    metadata = mut.metadata)\n",
    "    return new_tables.tree_sequence()"
   ]
  },
  {
   "cell_type": "code",
   "execution_count": 39,
   "metadata": {},
   "outputs": [
    {
     "name": "stdout",
     "output_type": "stream",
     "text": [
      "simulated\n",
      "mutated\n",
      "1569906640.939546 1569906640.840832 0.09871411323547363\n",
      "1569906787.605782 1569906640.840832 146.6660192012787\n"
     ]
    }
   ],
   "source": [
    "import time\n",
    "starts=[x for x in range(0,100000,20)]\n",
    "ends=[x+10 for x in range(0,100000, 20)]\n",
    "prop = 0.9\n",
    "new = []\n",
    "old = []\n",
    "for i in range(1):\n",
    "    ts = msprime.simulate(10, Ne=10000, length=50000000, recombination_rate=1e-8)\n",
    "    print(\"simulated\")\n",
    "    ts_mut = msprime.mutate(ts, rate=1.4e-8)\n",
    "    print(\"mutated\")\n",
    "    s1 = time.time()\n",
    "    remove_mutations(ts_mut, starts, ends, prop)\n",
    "    e1 = time.time()\n",
    "    new.append(e1-s1)\n",
    "    print(e1,s1,e1-s1)\n",
    "    s2 = time.time()\n",
    "    remove_mutations_old(ts_mut, starts, ends, prop)\n",
    "    e2 = time.time()\n",
    "    old.append(e2-s2)\n",
    "    print(e2,s1,e2-s2)"
   ]
  },
  {
   "cell_type": "code",
   "execution_count": 40,
   "metadata": {},
   "outputs": [
    {
     "name": "stdout",
     "output_type": "stream",
     "text": [
      "new func\told func\n",
      "0.09871411323547363\t146.6660192012787\n"
     ]
    }
   ],
   "source": [
    "print(\"new func\", \"old func\", sep=\"\\t\")\n",
    "print(np.mean(new), np.mean(old), sep=\"\\t\")"
   ]
  },
  {
   "cell_type": "code",
   "execution_count": 41,
   "metadata": {},
   "outputs": [
    {
     "name": "stdout",
     "output_type": "stream",
     "text": [
      "0.032039999999999576 0.014955555555555543\n"
     ]
    }
   ],
   "source": [
    "starts=[0]\n",
    "ends=[10000]\n",
    "prop = 0.5\n",
    "ts = msprime.simulate(10, Ne=1000, mutation_rate=1e-5, length=10000)\n",
    "new_ts = remove_mutations(ts, starts, ends,prop)\n",
    "print(ts.diversity(),new_ts.diversity())"
   ]
  },
  {
   "cell_type": "code",
   "execution_count": 42,
   "metadata": {},
   "outputs": [
    {
     "data": {
      "text/plain": [
       "[731, 344, 387, 0]"
      ]
     },
     "execution_count": 42,
     "metadata": {},
     "output_type": "execute_result"
    }
   ],
   "source": [
    "starts=[0]\n",
    "ends=[5000]\n",
    "prop = 1\n",
    "ts = msprime.simulate(10, Ne=1000, mutation_rate=1e-5, length=10000)\n",
    "n_before = ts.num_mutations\n",
    "breaks = np.concatenate(([-1], starts, ends))\n",
    "breaks.sort()\n",
    "n_within_before = sum(np.searchsorted(breaks,ts.tables.sites.position,\"right\")%2 == 0)\n",
    "new_ts = remove_mutations(ts, starts, ends,prop)\n",
    "pos_after = []\n",
    "for j, mut in enumerate(new_ts.mutations()):\n",
    "    pos_after.append(mut.position)\n",
    "n_within_after = sum(np.searchsorted(breaks,pos_after,\"right\")%2 == 0)\n",
    "n_after = new_ts.num_mutations\n",
    "#assert n_after == n_before - n_within_before\n",
    "[n_before, n_within_before, n_after, n_within_after]\n"
   ]
  },
  {
   "cell_type": "code",
   "execution_count": 43,
   "metadata": {},
   "outputs": [
    {
     "data": {
      "text/plain": [
       "[2898, 1448, 2898, 1448]"
      ]
     },
     "execution_count": 43,
     "metadata": {},
     "output_type": "execute_result"
    }
   ],
   "source": [
    "starts=[0]\n",
    "ends=[5000]\n",
    "prop = 0\n",
    "ts = msprime.simulate(10, Ne=1000, mutation_rate=1e-5, length=10000)\n",
    "n_before = ts.num_mutations\n",
    "breaks = np.concatenate(([-1], starts, ends))\n",
    "breaks.sort()\n",
    "n_within_before = sum(np.searchsorted(breaks,ts.tables.sites.position,\"right\")%2 == 0)\n",
    "new_ts = remove_mutations(ts, starts, ends,prop)\n",
    "pos_after = []\n",
    "for j, mut in enumerate(new_ts.mutations()):\n",
    "    pos_after.append(mut.position)\n",
    "n_within_after = sum(np.searchsorted(breaks,pos_after,\"right\")%2 == 0)\n",
    "n_after = new_ts.num_mutations\n",
    "assert n_before == n_after\n",
    "[n_before, n_within_before, n_after, n_within_after]"
   ]
  },
  {
   "cell_type": "code",
   "execution_count": 44,
   "metadata": {},
   "outputs": [
    {
     "data": {
      "text/plain": [
       "[1285, 657, 971, 343]"
      ]
     },
     "execution_count": 44,
     "metadata": {},
     "output_type": "execute_result"
    }
   ],
   "source": [
    "starts=[0]\n",
    "ends=[5000]\n",
    "prop = 0.5\n",
    "ts = msprime.simulate(10, Ne=1000, mutation_rate=1e-5, length=10000)\n",
    "n_before = ts.num_mutations\n",
    "breaks = np.concatenate(([-1], starts, ends))\n",
    "breaks.sort()\n",
    "n_within_before = sum(np.searchsorted(breaks,ts.tables.sites.position,\"right\")%2 == 0)\n",
    "new_ts = remove_mutations(ts, starts, ends,prop)\n",
    "pos_after = []\n",
    "for j, mut in enumerate(new_ts.mutations()):\n",
    "    pos_after.append(mut.position)\n",
    "n_within_after = sum(np.searchsorted(breaks,pos_after,\"right\")%2 == 0)\n",
    "n_after = new_ts.num_mutations\n",
    "var = (prop*(1-prop)*n_before)\n",
    "assert abs(n_within_after - (n_within_before * prop)) < sqrt(var)*3 #3 std devs\n",
    "[n_before, n_within_before, n_after, n_within_after]"
   ]
  },
  {
   "cell_type": "code",
   "execution_count": null,
   "metadata": {},
   "outputs": [],
   "source": []
  }
 ],
 "metadata": {
  "kernelspec": {
   "display_name": "Python 3",
   "language": "python",
   "name": "python3"
  },
  "language_info": {
   "codemirror_mode": {
    "name": "ipython",
    "version": 3
   },
   "file_extension": ".py",
   "mimetype": "text/x-python",
   "name": "python",
   "nbconvert_exporter": "python",
   "pygments_lexer": "ipython3",
   "version": "3.6.8"
  }
 },
 "nbformat": 4,
 "nbformat_minor": 2
}
